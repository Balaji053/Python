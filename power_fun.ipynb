{
 "cells": [
  {
   "cell_type": "code",
   "execution_count": 2,
   "id": "d0b0ff93",
   "metadata": {},
   "outputs": [
    {
     "name": "stdout",
     "output_type": "stream",
     "text": [
      "8\n"
     ]
    }
   ],
   "source": [
    "# Ecludeian Power function log(n) time\n",
    "# a^b\n",
    "def power(a,b):\n",
    "    if b == 0:\n",
    "        return 1\n",
    "    half = power(a,b//2)\n",
    "    if b % 2 == 0:\n",
    "        return half * half\n",
    "    else:\n",
    "        return half * half * a\n",
    "    \n",
    "if __name__ == \"__main__\":\n",
    "    print(power(2,3)) # Output: 8"
   ]
  },
  {
   "cell_type": "code",
   "execution_count": null,
   "id": "0f78e67f",
   "metadata": {},
   "outputs": [],
   "source": []
  }
 ],
 "metadata": {
  "kernelspec": {
   "display_name": "base",
   "language": "python",
   "name": "python3"
  },
  "language_info": {
   "codemirror_mode": {
    "name": "ipython",
    "version": 3
   },
   "file_extension": ".py",
   "mimetype": "text/x-python",
   "name": "python",
   "nbconvert_exporter": "python",
   "pygments_lexer": "ipython3",
   "version": "3.11.8"
  }
 },
 "nbformat": 4,
 "nbformat_minor": 5
}
